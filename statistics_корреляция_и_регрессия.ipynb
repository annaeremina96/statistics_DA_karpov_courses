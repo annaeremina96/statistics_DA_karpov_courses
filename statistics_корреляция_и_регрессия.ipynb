{
 "cells": [
  {
   "cell_type": "markdown",
   "metadata": {},
   "source": [
    "# Корреляция и регрессия\n",
    "\n",
    "Помимо сравнения двух и более групп хорошего аналитика часто интересуют взаимосвязи между двумя величинами — их значимость и сила. Для этих целей научимся пользоваться корреляционным и регрессионным анализом."
   ]
  },
  {
   "cell_type": "code",
   "execution_count": 10,
   "metadata": {},
   "outputs": [],
   "source": [
    "import numpy as np\n",
    "import scipy.stats as st\n",
    "import pandas as pd\n",
    "import statsmodels.api as sm\n",
    "import statsmodels.formula.api as smf\n",
    "import statsmodels.stats.api as sms\n",
    "import seaborn as sns\n",
    "import matplotlib.pyplot as plt\n",
    "\n",
    "%matplotlib inline\n",
    "\n",
    "sns.set(rc={'figure.figsize':(16,6)}, style=\"whitegrid\")"
   ]
  },
  {
   "cell_type": "markdown",
   "metadata": {},
   "source": [
    "**через numpy (только Пирсона, без p-значений)**\n",
    "    \n",
    "    np.corrcoef(x, y)  # y опционален, можно дать массив с несколькими колонками, функция строит матрицу корреляций\n",
    "\n",
    "**через scipy (даёт значение коэффициента корреляции и p-значение)**\n",
    "    \n",
    "    st.pearsonr(x, y) \n",
    "    st.spearmanr(x, y)\n",
    "    st.kendalltau(x, y) \n",
    "\n",
    "**через pandas (сравнение pandas Series)**\n",
    "\n",
    "    df.corr()\n",
    "    df.corr(method='spearman')\n",
    "    df.corr(method='kendall')\n"
   ]
  },
  {
   "cell_type": "markdown",
   "metadata": {},
   "source": [
    "Функцию np.corrcoef() имеет смысл использовать только в том случае, если у вас несколько переменных и вы хотите увидеть попарные корреляции каждой из них. \n",
    "\n",
    "На выходе тогда будет корреляционная матрица, по левой диагонали которой будут единицы (так как там переменная коррелируется сама с собой)"
   ]
  },
  {
   "cell_type": "markdown",
   "metadata": {},
   "source": [
    "График корреляции называется диаграммой рассеяния (scatterplot). В Python его можно нарисовать следующим образом:\n",
    "\n",
    "    sns.scatterplot(x = 'sepal_length', y = 'sepal_width', data = iris)\n",
    "    plt.title('Взаимосвязь измерений чашелистников ирисов')\n",
    "    plt.xlabel('Длина чашелистника')\n",
    "    plt.ylabel('Ширина чашелистника')"
   ]
  },
  {
   "cell_type": "markdown",
   "metadata": {},
   "source": [
    "Оцените регрессионную модель"
   ]
  },
  {
   "cell_type": "code",
   "execution_count": 9,
   "metadata": {},
   "outputs": [
    {
     "name": "stdout",
     "output_type": "stream",
     "text": [
      "                            OLS Regression Results                            \n",
      "==============================================================================\n",
      "Dep. Variable:                Lottery   R-squared:                       0.348\n",
      "Model:                            OLS   Adj. R-squared:                  0.333\n",
      "Method:                 Least Squares   F-statistic:                     22.20\n",
      "Date:                Wed, 29 Nov 2023   Prob (F-statistic):           1.90e-08\n",
      "Time:                        13:02:00   Log-Likelihood:                -379.82\n",
      "No. Observations:                  86   AIC:                             765.6\n",
      "Df Residuals:                      83   BIC:                             773.0\n",
      "Df Model:                           2                                         \n",
      "Covariance Type:            nonrobust                                         \n",
      "===================================================================================\n",
      "                      coef    std err          t      P>|t|      [0.025      0.975]\n",
      "-----------------------------------------------------------------------------------\n",
      "Intercept         246.4341     35.233      6.995      0.000     176.358     316.510\n",
      "Literacy           -0.4889      0.128     -3.832      0.000      -0.743      -0.235\n",
      "np.log(Pop1831)   -31.3114      5.977     -5.239      0.000     -43.199     -19.424\n",
      "==============================================================================\n",
      "Omnibus:                        3.713   Durbin-Watson:                   2.019\n",
      "Prob(Omnibus):                  0.156   Jarque-Bera (JB):                3.394\n",
      "Skew:                          -0.487   Prob(JB):                        0.183\n",
      "Kurtosis:                       3.003   Cond. No.                         702.\n",
      "==============================================================================\n",
      "\n",
      "Notes:\n",
      "[1] Standard Errors assume that the covariance matrix of the errors is correctly specified.\n"
     ]
    }
   ],
   "source": [
    "url = \"https://raw.githubusercontent.com/vincentarelbundock/Rdatasets/master/csv/HistData/Guerry.csv\"\n",
    "dat = pd.read_csv(url)\n",
    "\n",
    "# Fit regression model (using the natural log of one of the regressors)\n",
    "results = smf.ols(\"Lottery ~ Literacy + np.log(Pop1831)\", data=dat).fit()\n",
    "\n",
    "# Inspect the results\n",
    "print(results.summary())"
   ]
  },
  {
   "cell_type": "markdown",
   "metadata": {},
   "source": [
    "**Регрессия с одной независимой переменной:**\n",
    "\n",
    "\n",
    "через scipy (только одномерная)\n",
    "\n",
    "    stats.linregress(x, y)\n",
    "\n",
    "через statsmodels (один из вариантов)\n",
    "\n",
    "    # Y = одномерный массив с ЗП, X - массив с НП\n",
    "    X = sm.add_constant(X)  # добавить константу, чтобы был свободный член\n",
    "    model = sm.OLS(Y, X)  # говорим модели, что у нас ЗП, а что НП\n",
    "    results = model.fit()  # строим регрессионную прямую\n",
    "    print(results.summary())  # смотрим результат\n",
    "\n",
    "то же самое можно через формулу\n",
    "\n",
    "    results = smf.ols('Y ~ X', data).fit()\n",
    "    print(results.summary())\n"
   ]
  },
  {
   "cell_type": "markdown",
   "metadata": {},
   "source": [
    "**Нормальность остатков**\n",
    "\n",
    "Тест Жарка-Бера:\n",
    "\n",
    "    name = [\"Jarque-Bera\", \"Chi^2 two-tail prob.\", \"Skew\", \"Kurtosis\"]\n",
    "    test = sms.jarque_bera(results.resid)\n",
    "    lzip(name, test)\n",
    "    \n",
    "Всесторонний тест:\n",
    "\n",
    "    name = [\"Chi^2\", \"Two-tail probability\"]\n",
    "    test = sms.omni_normtest(results.resid)\n",
    "    lzip(name, test)"
   ]
  },
  {
   "cell_type": "markdown",
   "metadata": {},
   "source": [
    "Тесты на влияние\n",
    "\n",
    "После создания объект класса OLSInfluence содержит атрибуты и методы, которые позволяют пользователям оценивать влияние каждого наблюдения. \n",
    "\n",
    "Например, мы можем вычислить и извлечь первые несколько строк DFbets следующим образом:"
   ]
  },
  {
   "cell_type": "code",
   "execution_count": 13,
   "metadata": {},
   "outputs": [
    {
     "data": {
      "text/plain": [
       "array([[-0.00301154,  0.00290872,  0.00118179],\n",
       "       [-0.06425662,  0.04043093,  0.06281609],\n",
       "       [ 0.01554894, -0.03556038, -0.00905336],\n",
       "       [ 0.17899858,  0.04098207, -0.18062352],\n",
       "       [ 0.29679073,  0.21249207, -0.3213655 ]])"
      ]
     },
     "execution_count": 13,
     "metadata": {},
     "output_type": "execute_result"
    }
   ],
   "source": [
    "from statsmodels.stats.outliers_influence import OLSInfluence\n",
    "\n",
    "test_class = OLSInfluence(results)\n",
    "test_class.dfbetas[:5, :]\n"
   ]
  },
  {
   "cell_type": "markdown",
   "metadata": {},
   "source": [
    "Полезную информацию о кредитном плече также можно нанести на график:"
   ]
  },
  {
   "cell_type": "code",
   "execution_count": 14,
   "metadata": {},
   "outputs": [
    {
     "data": {
      "image/png": "[encoded data removed]",
      "text/plain": [
       "<Figure size 576x432 with 1 Axes>"
      ]
     },
     "metadata": {},
     "output_type": "display_data"
    }
   ],
   "source": [
    "from statsmodels.graphics.regressionplots import plot_leverage_resid2\n",
    "\n",
    "fig, ax = plt.subplots(figsize=(8, 6))\n",
    "fig = plot_leverage_resid2(results, ax=ax)"
   ]
  },
  {
   "cell_type": "markdown",
   "metadata": {},
   "source": [
    "https://www.statsmodels.org/stable/graphics.html"
   ]
  },
  {
   "cell_type": "markdown",
   "metadata": {},
   "source": [
    "Мультиколлинеарность"
   ]
  },
  {
   "cell_type": "code",
   "execution_count": 15,
   "metadata": {},
   "outputs": [
    {
     "data": {
      "text/plain": [
       "702.1792145490066"
      ]
     },
     "execution_count": 15,
     "metadata": {},
     "output_type": "execute_result"
    }
   ],
   "source": [
    "np.linalg.cond(results.model.exog)"
   ]
  },
  {
   "cell_type": "markdown",
   "metadata": {},
   "source": [
    "**Тесты на гетероскедастичность**\n",
    "\n",
    "Тест Бреуша-Пэгана:\n",
    "\n",
    "    name = [\"Lagrange multiplier statistic\", \"p-value\", \"f-value\", \"f p-value\"]\n",
    "    test = sms.het_breuschpagan(results.resid, results.model.exog)\n",
    "    lzip(name, test)\n",
    "\n",
    "Тест Гольдфельда-Квандта:\n",
    "\n",
    "    name = [\"F statistic\", \"p-value\"]\n",
    "    test = sms.het_goldfeldquandt(results.resid, results.model.exog)\n",
    "    lzip(name, test)"
   ]
  },
  {
   "cell_type": "markdown",
   "metadata": {},
   "source": [
    "Линейность\n",
    "\n",
    "Проверка множителя Харви-Коллиера для нулевой гипотезы о правильности линейной спецификации:\n",
    "\n",
    "    name = [\"t value\", \"p value\"]\n",
    "    test = sms.linear_harvey_collier(results)\n",
    "    lzip(name, test)"
   ]
  },
  {
   "cell_type": "markdown",
   "metadata": {},
   "source": [
    "Как визуализировать регрессию\n",
    "\n",
    "График фактически идентичен тому, который строится при обычной корреляции, но в случае линейной регрессии принято ещё рисовать соответствующую прямую:\n",
    "\n",
    "    sns.regplot(x = 'sepal_length', y = 'sepal_width', data = iris)\n",
    "    plt.title('Взаимосвязь измерений чашелистников ирисов')\n",
    "    plt.xlabel('Длина чашелистника')\n",
    "    plt.ylabel('Ширина чашелистника')"
   ]
  },
  {
   "cell_type": "code",
   "execution_count": 19,
   "metadata": {},
   "outputs": [
    {
     "name": "stderr",
     "output_type": "stream",
     "text": [
      "'c' argument looks like a single numeric RGB or RGBA sequence, which should be avoided as value-mapping will have precedence in case its length matches with 'x' & 'y'.  Please use a 2-D array with a single row if you really want to specify the same RGB or RGBA value for all points.\n"
     ]
    },
    {
     "name": "stdout",
     "output_type": "stream",
     "text": [
      "-1.0\n"
     ]
    },
    {
     "data": {
      "image/png": "[encoded data removed]",
      "text/plain": [
       "<Figure size 1152x432 with 1 Axes>"
      ]
     },
     "metadata": {},
     "output_type": "display_data"
    }
   ],
   "source": [
    "from math import sqrt\n",
    "\n",
    "data = {'x': [4,5,2,3,1], 'y': [2,1,4,3,5]}\n",
    "df = pd.DataFrame(data=data)\n",
    "\n",
    "mean = df.mean(axis = 0)\n",
    "rxy = sum((df['x'] - mean['x']) * (df['y'] - mean['y'])) / sqrt(sum((df['x'] - mean['x'])**2) * sum((df['y'] - mean['y'])**2))\n",
    "print(rxy)\n",
    "df.plot.scatter(x='x', y='y');"
   ]
  },
  {
   "cell_type": "code",
   "execution_count": 20,
   "metadata": {},
   "outputs": [
    {
     "data": {
      "text/html": [
       "<div>\n",
       "<style scoped>\n",
       "    .dataframe tbody tr th:only-of-type {\n",
       "        vertical-align: middle;\n",
       "    }\n",
       "\n",
       "    .dataframe tbody tr th {\n",
       "        vertical-align: top;\n",
       "    }\n",
       "\n",
       "    .dataframe thead th {\n",
       "        text-align: right;\n",
       "    }\n",
       "</style>\n",
       "<table border=\"1\" class=\"dataframe\">\n",
       "  <thead>\n",
       "    <tr style=\"text-align: right;\">\n",
       "      <th></th>\n",
       "      <th>x</th>\n",
       "      <th>y</th>\n",
       "    </tr>\n",
       "  </thead>\n",
       "  <tbody>\n",
       "    <tr>\n",
       "      <th>x</th>\n",
       "      <td>1.0</td>\n",
       "      <td>-1.0</td>\n",
       "    </tr>\n",
       "    <tr>\n",
       "      <th>y</th>\n",
       "      <td>-1.0</td>\n",
       "      <td>1.0</td>\n",
       "    </tr>\n",
       "  </tbody>\n",
       "</table>\n",
       "</div>"
      ],
      "text/plain": [
       "     x    y\n",
       "x  1.0 -1.0\n",
       "y -1.0  1.0"
      ]
     },
     "execution_count": 20,
     "metadata": {},
     "output_type": "execute_result"
    }
   ],
   "source": [
    "df.corr()"
   ]
  }
 ],
 "metadata": {
  "kernelspec": {
   "display_name": "Python 3",
   "language": "python",
   "name": "python3"
  },
  "language_info": {
   "codemirror_mode": {
    "name": "ipython",
    "version": 3
   },
   "file_extension": ".py",
   "mimetype": "text/x-python",
   "name": "python",
   "nbconvert_exporter": "python",
   "pygments_lexer": "ipython3",
   "version": "3.7.3"
  }
 },
 "nbformat": 4,
 "nbformat_minor": 4
}
